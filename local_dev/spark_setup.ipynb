{
 "cells": [
  {
   "cell_type": "code",
   "execution_count": 1,
   "metadata": {},
   "outputs": [
    {
     "name": "stdout",
     "output_type": "stream",
     "text": [
      "Using Databricks Connect\n",
      "Spark Version: 4.0.0\n"
     ]
    }
   ],
   "source": [
    "import os\n",
    "\n",
    "# Use local Spark session or Databricks Connect based on environment\n",
    "LOCAL_OVERRIDE = os.getenv(\"LOCAL_OVERRIDE\", \"False\")\n",
    "\n",
    "on_databricks = \"DATABRICKS_RUNTIME_VERSION\" in os.environ\n",
    "use_databricks_connect = not on_databricks  # Use Databricks Connect only when not in hosted env\n",
    "\n",
    "if LOCAL_OVERRIDE.lower() == \"true\":\n",
    "    print(\"Using Local Spark Session\")\n",
    "    from pyspark.sql import SparkSession\n",
    "    spark = SparkSession.builder \\\n",
    "        .appName(\"BRG_TEST\") \\\n",
    "        .master(\"local[*]\") \\\n",
    "        .getOrCreate()\n",
    "elif use_databricks_connect:\n",
    "    print(\"Using Databricks Connect\")\n",
    "    from databricks.connect import DatabricksSession\n",
    "    spark = DatabricksSession.builder.profile(\"AW_SU_BRG\").getOrCreate()\n",
    "\n",
    "\n",
    "print(\"Spark Version:\", spark.version)\n"
   ]
  }
 ],
 "metadata": {
  "application/vnd.databricks.v1+notebook": {
   "computePreferences": null,
   "dashboards": [],
   "environmentMetadata": {
    "base_environment": "",
    "environment_version": "2"
   },
   "inputWidgetPreferences": null,
   "language": "python",
   "notebookMetadata": {
    "pythonIndentUnit": 4
   },
   "notebookName": "create_address_test_data",
   "widgets": {}
  },
  "kernelspec": {
   "display_name": "3.12.3",
   "language": "python",
   "name": "python3"
  },
  "language_info": {
   "codemirror_mode": {
    "name": "ipython",
    "version": 3
   },
   "file_extension": ".py",
   "mimetype": "text/x-python",
   "name": "python",
   "nbconvert_exporter": "python",
   "pygments_lexer": "ipython3",
   "version": "3.12.3"
  }
 },
 "nbformat": 4,
 "nbformat_minor": 0
}
