{
 "cells": [
  {
   "cell_type": "code",
   "execution_count": 0,
   "metadata": {
    "application/vnd.databricks.v1+cell": {
     "cellMetadata": {},
     "inputWidgets": {},
     "nuid": "5be3318b-4008-4605-89ee-a466ffbdc38b",
     "showTitle": false,
     "tableResultSettingsMap": {},
     "title": ""
    }
   },
   "outputs": [],
   "source": [
    "import os\n",
    "\n",
    "# Use local Spark session or Databricks Connect based on environment\n",
    "LOCAL_OVERRIDE = os.getenv(\"LOCAL_OVERRIDE\", \"False\")\n",
    "\n",
    "on_databricks = \"DATABRICKS_RUNTIME_VERSION\" in os.environ\n",
    "use_databricks_connect = not on_databricks  # Use Databricks Connect only when not in hosted env\n",
    "\n",
    "if LOCAL_OVERRIDE.lower() == \"true\":\n",
    "    print(\"Using Local Spark Session\")\n",
    "    from pyspark.sql import SparkSession\n",
    "    spark = SparkSession.builder \\\n",
    "        .appName(\"BRG_TEST\") \\\n",
    "        .master(\"local[*]\") \\\n",
    "        .getOrCreate()\n",
    "elif use_databricks_connect:\n",
    "    print(\"Using Databricks Connect\")\n",
    "    from databricks.connect import DatabricksSession\n",
    "    spark = DatabricksSession.builder.profile(\"AW_SU_BRG\").getOrCreate()\n",
    "\n",
    "\n",
    "print(\"Spark Version:\", spark.version)\n"
   ]
  }
 ],
 "metadata": {
  "application/vnd.databricks.v1+notebook": {
   "computePreferences": null,
   "dashboards": [],
   "environmentMetadata": {
    "base_environment": "",
    "environment_version": "2"
   },
   "inputWidgetPreferences": null,
   "language": "python",
   "notebookMetadata": {
    "pythonIndentUnit": 4
   },
   "notebookName": "spark_setup",
   "widgets": {}
  },
  "kernelspec": {
   "display_name": "3.12.3",
   "language": "python",
   "name": "python3"
  },
  "language_info": {
   "name": "python"
  }
 },
 "nbformat": 4,
 "nbformat_minor": 0
}
