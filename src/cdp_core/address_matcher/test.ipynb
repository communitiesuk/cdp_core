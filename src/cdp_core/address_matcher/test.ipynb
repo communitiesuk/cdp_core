{
 "cells": [
  {
   "cell_type": "code",
   "execution_count": 0,
   "metadata": {
    "application/vnd.databricks.v1+cell": {
     "cellMetadata": {
      "byteLimit": 2048000,
      "rowLimit": 10000
     },
     "inputWidgets": {},
     "nuid": "f6d981f6-b56c-479b-9edd-9be2145cf6c9",
     "showTitle": true,
     "tableResultSettingsMap": {},
     "title": "test secret"
    }
   },
   "outputs": [],
   "source": [
    "# print secret 'test' from scope 'TEST'\n",
    "secret = dbutils.secrets.get(scope = \"TEST\", key = \"test\")\n",
    "print(secret)\n",
    "print(\"starts with:\", secret[:7])\n",
    "\n",
    "# not_a_secret = dbutils.secrets.get(scope = \"TEST\", key = \"not_a_secret\")\n",
    "# print(not_a_secret)"
   ]
  }
 ],
 "metadata": {
  "application/vnd.databricks.v1+notebook": {
   "computePreferences": null,
   "dashboards": [],
   "environmentMetadata": {
    "base_environment": "",
    "environment_version": "2"
   },
   "inputWidgetPreferences": null,
   "language": "python",
   "notebookMetadata": {
    "pythonIndentUnit": 4
   },
   "notebookName": "test",
   "widgets": {}
  },
  "language_info": {
   "name": "python"
  }
 },
 "nbformat": 4,
 "nbformat_minor": 0
}
